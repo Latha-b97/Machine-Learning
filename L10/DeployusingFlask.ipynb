{
 "cells": [
  {
   "cell_type": "markdown",
   "metadata": {},
   "source": [
    "# Deploying Machine Learning Models Using Flask\n",
    "In this assignment we are going to work on deploying and serving a simple keras model. We are going to start with training the model, which is something that we should be very comfortable with by now. We will take this model and export it for future use. Then we will write a Flask application to load this model and serve it to mutiple users over the internet. We will have the chance to showcase our models to the whole world!\n",
    "\n",
    "Most of the difficulty in this example is understanding how Flask works. If you don't know about Flask, do not worry. We will take go through a few example setups step by step. There are many other frameworks that are similar to Flask, like Django or Tornado. All of these frameworks can be used for the same purpose, but we are going use Flask for the assignment.\n",
    "\n",
    "If you haven't done it yet, install Flask using \"pip install Flask\" on your terminal and then please take a look at http://flask.pocoo.org/docs/0.12/quickstart/ We will present a few short examples here for you and you should use the Flask documentation when you want to find more examples and to see the APIs. \n",
    "\n",
    "Ok, here is a minimal Flask program:"
   ]
  },
  {
   "cell_type": "code",
   "execution_count": 28,
   "metadata": {
    "collapsed": true
   },
   "outputs": [],
   "source": [
    "from flask import Flask\n",
    "app = Flask(__name__)\n",
    "\n",
    "@app.route('/')\n",
    "def hello_world():\n",
    "    return 'Hello, World!'"
   ]
  },
  {
   "cell_type": "markdown",
   "metadata": {},
   "source": [
    "When we run this program on our local computer, it will start a webserver, hosted on our local machine. We can\n",
    "open up our favorite web-browser and type http://127.0.0.1:5000/ at the address bar to see a \"Hello World\" message.\n",
    "If you are able to see this message, you have setup a Flask server successfully and ready to take on the next\n",
    "challenge!!!\n",
    "\n",
    "\n",
    "Let's look at a second example.\n"
   ]
  },
  {
   "cell_type": "code",
   "execution_count": 29,
   "metadata": {
    "collapsed": true
   },
   "outputs": [],
   "source": [
    "from flask import Flask\n",
    "app = Flask(__name__)\n",
    "\n",
    "@app.route('/')\n",
    "def index():\n",
    "    return 'Index Page'\n",
    "\n",
    "@app.route('/hello_route')\n",
    "def hello_function():\n",
    "    return 'Hello, World'"
   ]
  },
  {
   "cell_type": "markdown",
   "metadata": {},
   "source": [
    "When we run this code Flask will start a webserver for us like what we've seen in the first example. If we go to\n",
    "the website http://127.0.0.1:5000/ we will see a message \"Index Page\". If we however go to the page\n",
    "http://127.0.0.1:5000/hello_route, we will see a \"Hello, World\" message. What is happening under the\n",
    "hood is that Flask is taking the hello_route requests, and routing that to the hello_function function\n",
    "in our code. This function returns a message which then gets displayed on our page! This is how we tie\n",
    "the webpage requests to python code. We define the route using \"@app.route('/hello_route')\" and then\n",
    "write function that we would like run in response to this request."
   ]
  },
  {
   "cell_type": "markdown",
   "metadata": {
    "collapsed": true
   },
   "source": [
    "# Training a Neural Network on Iris Dataset\n",
    "\n",
    "We will use the Iris dataset in this homework. The training of the network should be an easy process for all of us at this point. Our main goal in this assignment is not the training itself, but being able to export the model and serve it through a server. So a training goal of 85% accuracy is good enough. If you get better than that, that's great!\n",
    "\n",
    "Go ahead and download the dataset from the UCI repository given here: https://archive.ics.uci.edu/ml/machine-learning-databases/iris/iris.data The extension of the dataset is given as '.data' but you can change that to be a 'csv' standing for comma separated file. The attributes in this dataset are given as:\n",
    "   1. sepal length in cm\n",
    "   2. sepal width in cm\n",
    "   3. petal length in cm\n",
    "   4. petal width in cm\n",
    "   5. class: \n",
    "      -- Iris Setosa\n",
    "      -- Iris Versicolour\n",
    "      -- Iris Virginica\n",
    "    \n",
    "As you can see, the last column is the class labels. You need to make sure to drop that column from your training, and you also need to one-hot-encode that column before you could use it as your labels. "
   ]
  },
  {
   "cell_type": "code",
   "execution_count": 30,
   "metadata": {},
   "outputs": [],
   "source": [
    "# Load the iris dataset and return the tuple X,Y such that X holds the four attributes: sepal length, sepal width, petal length, \n",
    "# petal width and Y holds the one-hot-encoded class values e.g 0,0,1 for Iris Setosa, 0,1,0 for Iris Versicolour etc\n",
    "import sklearn as sk\n",
    "import pandas as pd\n",
    "import numpy as np\n",
    "from keras.utils import np_utils\n",
    "from keras.utils import to_categorical\n",
    "from sklearn.preprocessing import LabelEncoder\n",
    "\n",
    "def load_training_data():\n",
    "    ######################### TODO #########################\n",
    "    #df = pd.read_csv(\"data.csv\")\n",
    "    df = pd.read_csv(\"iris.csv\")\n",
    "    df.head()\n",
    "    print(df.head())\n",
    "    #print(df)\n",
    "    #X = df.columns[0:4]\n",
    "    #YY = df.columns[4:5] \n",
    "    dataset = df.values\n",
    "    X = dataset[:,0:4].astype(float)\n",
    "    YY = dataset[:,4]\n",
    "    #print (X)\n",
    "    #print(YY)\n",
    "    \n",
    "    encoder = LabelEncoder()\n",
    "    encoder.fit(YY)\n",
    "    encoded_Y = encoder.transform(YY)\n",
    "    \n",
    "    Y = np_utils.to_categorical(encoded_Y)\n",
    "    print(Y.shape)\n",
    "    #print(X)\n",
    "    #print(Y)\n",
    "    \n",
    "    return (X,Y) "
   ]
  },
  {
   "cell_type": "code",
   "execution_count": 31,
   "metadata": {
    "nbgrader": {
     "grade": false,
     "locked": true,
     "solution": false
    }
   },
   "outputs": [
    {
     "name": "stdout",
     "output_type": "stream",
     "text": [
      "   5.1  3.5  1.4  0.2  Iris-setosa\n",
      "0  4.9  3.0  1.4  0.2  Iris-setosa\n",
      "1  4.7  3.2  1.3  0.2  Iris-setosa\n",
      "2  4.6  3.1  1.5  0.2  Iris-setosa\n",
      "3  5.0  3.6  1.4  0.2  Iris-setosa\n",
      "4  5.4  3.9  1.7  0.4  Iris-setosa\n",
      "(149, 3)\n"
     ]
    }
   ],
   "source": [
    "X,Y = load_training_data()"
   ]
  },
  {
   "cell_type": "markdown",
   "metadata": {},
   "source": [
    "## Keras Model\n",
    "Develop a Keras model that can classify the iris dataset. Using ReLu activations throughout the network and using a softmax at the top layer would help to get a good accuracy. Include the accuracy metric in your model so that you can plot it in the next cell. A very simple model, with 2 dense layers can get you to 90% accuracy, so if you find yourself builind a resnet here, there is something going wrong. "
   ]
  },
  {
   "cell_type": "code",
   "execution_count": 32,
   "metadata": {
    "collapsed": true
   },
   "outputs": [],
   "source": [
    "import keras\n",
    "from keras.models import Sequential\n",
    "from keras.layers import Dense \n",
    "\n",
    "# Return your model after you compile it. \n",
    "# Include the accuracy metric in your model for later use.\n",
    "def build_model():\n",
    "    ######################## TODO ######################\n",
    "    model = Sequential()\n",
    "    model.add(Dense(8, input_dim=4, activation='relu'))\n",
    "    model.add(Dense(3, activation='softmax'))\n",
    "    model.compile(loss='categorical_crossentropy', optimizer='adam', metrics=['accuracy'])\n",
    "    return model"
   ]
  },
  {
   "cell_type": "code",
   "execution_count": 36,
   "metadata": {
    "nbgrader": {
     "grade": false,
     "locked": false,
     "solution": false
    }
   },
   "outputs": [
    {
     "name": "stdout",
     "output_type": "stream",
     "text": [
      "(149, 4)\n",
      "(149, 3)\n",
      "dict_keys(['loss', 'acc', 'val_acc', 'val_loss'])\n"
     ]
    },
    {
     "data": {
      "image/png": "[encoded data removed]",
      "text/plain": [
       "<matplotlib.figure.Figure at 0x7f853d0acda0>"
      ]
     },
     "metadata": {},
     "output_type": "display_data"
    }
   ],
   "source": [
    "model = build_model()\n",
    "print(X.shape)\n",
    "print(Y.shape)\n",
    "history = model.fit(X, Y, epochs=200, batch_size=50, validation_split = .2, verbose=0)\n",
    "\n",
    "########################### TODO ###########################\n",
    "# PLOT BOTH ACC and VAL_ACC to see if your model is performing well. It's very \n",
    "# easy to overfit to this dataset. \n",
    "# list all data in history\n",
    "print(history.history.keys())\n",
    "# summarize history for accuracy\n",
    "from matplotlib import pyplot\n",
    "pyplot.plot(history.history['acc'])\n",
    "pyplot.plot(history.history['val_acc'])\n",
    "pyplot.title('model accuracy')\n",
    "pyplot.ylabel('accuracy')\n",
    "pyplot.xlabel('epoch')\n",
    "pyplot.legend(['train', 'test'], loc='upper left')\n",
    "pyplot.show()\n",
    "#pyplot.plot()\n",
    "#pyplot.show()"
   ]
  },
  {
   "cell_type": "code",
   "execution_count": 37,
   "metadata": {
    "collapsed": true,
    "nbgrader": {
     "grade": false,
     "locked": true,
     "solution": false
    }
   },
   "outputs": [],
   "source": [
    "# Lets save this model, and then delete it!\n",
    "model.save('iris_model.h5')\n",
    "del model  # deletes the existing model"
   ]
  },
  {
   "cell_type": "markdown",
   "metadata": {},
   "source": [
    "# Serving our Model Through Flask\n",
    "\n",
    "We are now going to tie the model we have trained to a Flask server!\n",
    "## TODO\n",
    "This part requires you to run the assignment on your local machine, so download the notebook and the model to your local box before moving ahead. "
   ]
  },
  {
   "cell_type": "code",
   "execution_count": 38,
   "metadata": {
    "nbgrader": {
     "grade": false,
     "locked": true,
     "solution": false
    }
   },
   "outputs": [
    {
     "name": "stdout",
     "output_type": "stream",
     "text": [
      "This is what you should be putting in the address bar: \n",
      "\n",
      "172.31.29.207:9001/predict?s_length=10&s_width=20&p_length=20&p_width=5\n"
     ]
    }
   ],
   "source": [
    "# A litte bit of network related magic to give you an address that you could use for debugging your code. \n",
    "# This should output a uri that you could copy and past to your browser to see the results of your model.\n",
    "# At this point, because we are not running the Flask service yet, you are going to get a response not found \n",
    "# error. \n",
    "import socket\n",
    "s = socket.socket(socket.AF_INET, socket.SOCK_DGRAM)\n",
    "s.connect((\"8.8.8.8\", 80))\n",
    "hostname = s.getsockname()[0]\n",
    "print(\"This is what you should be putting in the address bar: \\n\")\n",
    "request = hostname + \":9001/predict?s_length=10&s_width=20&p_length=20&p_width=5\"\n",
    "print(request)\n",
    "s.close()"
   ]
  },
  {
   "cell_type": "code",
   "execution_count": null,
   "metadata": {},
   "outputs": [
    {
     "name": "stderr",
     "output_type": "stream",
     "text": [
      " * Running on http://0.0.0.0:9001/ (Press CTRL+C to quit)\n"
     ]
    }
   ],
   "source": [
    "from flask import Flask, request, jsonify\n",
    "app = Flask(__name__)\n",
    "model = None\n",
    "\n",
    "def load_iris_model():\n",
    "    ###################### TODO ######################\n",
    "    # load the pre-trained Keras model into the global model variable\n",
    "    \n",
    "    pass\n",
    "\n",
    "@app.route(\"/predict\")\n",
    "def predict():\n",
    "    global model\n",
    "\n",
    "    ###################### TODO ######################\n",
    "    # collect all the arguments passed into this request.\n",
    "    # Take a look at the request.args\n",
    "    s_length = ...\n",
    "    s_width  = ...\n",
    "    p_length = ...\n",
    "    p_width  = ...\n",
    "    print(s_length, s_width, p_length, p_width)\n",
    "    \n",
    "    # We will predict the class probabilities based on the input here\n",
    "    query = np.array([[s_length, s_width, p_length, p_width]])\n",
    "    preds = model.predict(query)\n",
    "\n",
    "    ###################### TODO ######################\n",
    "    data = {}\n",
    "    data[\"success\"] = False\n",
    "    data[\"predictions\"] = []\n",
    "    data[\"predicted_class\"] = \"\"\n",
    "    \n",
    "    # Prepare a JSON response and return it here \n",
    "    # The JSON file should have the following format:\n",
    "    #    response = {\n",
    "    #        \"success\": True,\n",
    "    #        \"predictions\": {\n",
    "    #            'class_label_1': probability_of_class_1, \n",
    "    #            'class_label_2': probability_of_class_2,\n",
    "    #            'class_label_3': probability_of_class_3\n",
    "    #        },\n",
    "    #        \"predicted_class\": 'Iris Setosa'\n",
    "    #    }\n",
    "    \n",
    "    response_html = \"\"\"\n",
    "            <!doctype html>\n",
    "                <title>Hello from Iris Classifier</title>\n",
    "                    {% if response %}\n",
    "                      <h1>{{ response}}!</h1>\n",
    "                    {% endif %}\n",
    "    \"\"\"\n",
    "    return render_template_string(response_html, response=data)\n",
    "\n",
    "if __name__ == \"__main__\":\n",
    "    from werkzeug.serving import run_simple\n",
    "    load_iris_model()\n",
    "    run_simple('0.0.0.0', 9001, app)"
   ]
  },
  {
   "cell_type": "code",
   "execution_count": null,
   "metadata": {
    "collapsed": true
   },
   "outputs": [],
   "source": []
  }
 ],
 "metadata": {
  "kernelspec": {
   "display_name": "Python 3",
   "language": "python",
   "name": "python3"
  },
  "language_info": {
   "codemirror_mode": {
    "name": "ipython",
    "version": 3
   },
   "file_extension": ".py",
   "mimetype": "text/x-python",
   "name": "python",
   "nbconvert_exporter": "python",
   "pygments_lexer": "ipython3",
   "version": "3.6.5"
  }
 },
 "nbformat": 4,
 "nbformat_minor": 2
}
