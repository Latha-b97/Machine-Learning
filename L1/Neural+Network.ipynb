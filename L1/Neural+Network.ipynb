{
 "cells": [
  {
   "cell_type": "markdown",
   "metadata": {
    "nbgrader": {
     "grade": false,
     "locked": true,
     "solution": false
    }
   },
   "source": [
    "# Lesson 1b: Basic Neural Network with Keras"
   ]
  },
  {
   "cell_type": "markdown",
   "metadata": {
    "nbgrader": {
     "grade": false,
     "locked": true,
     "solution": false
    }
   },
   "source": [
    "In this lesson you will build a small neural network in Keras and train it to replicate the logical XOR function."
   ]
  },
  {
   "cell_type": "markdown",
   "metadata": {
    "nbgrader": {
     "grade": false,
     "locked": true,
     "solution": false
    }
   },
   "source": [
    "## Imports"
   ]
  },
  {
   "cell_type": "code",
   "execution_count": 1,
   "metadata": {
    "nbgrader": {
     "grade": false,
     "locked": true,
     "solution": false
    }
   },
   "outputs": [
    {
     "name": "stderr",
     "output_type": "stream",
     "text": [
      "/usr/local/lib/python3.5/dist-packages/h5py/__init__.py:36: FutureWarning: Conversion of the second argument of issubdtype from `float` to `np.floating` is deprecated. In future, it will be treated as `np.float64 == np.dtype(float).type`.\n",
      "  from ._conv import register_converters as _register_converters\n",
      "Using TensorFlow backend.\n"
     ]
    }
   ],
   "source": [
    "%matplotlib inline\n",
    "from IPython.display import SVG\n",
    "\n",
    "from keras.models import Model, Sequential\n",
    "from keras.layers import Input, Dense\n",
    "from keras.regularizers import l2\n",
    "from keras.utils.vis_utils import model_to_dot\n",
    "import math\n",
    "import numpy as np\n",
    "\n",
    "import matplotlib.pyplot as plt"
   ]
  },
  {
   "cell_type": "markdown",
   "metadata": {
    "nbgrader": {
     "grade": false,
     "locked": true,
     "solution": false
    }
   },
   "source": [
    "## Create dataset for the logical XOR function"
   ]
  },
  {
   "cell_type": "code",
   "execution_count": 2,
   "metadata": {
    "collapsed": true,
    "nbgrader": {
     "grade": false,
     "locked": true,
     "solution": false
    }
   },
   "outputs": [],
   "source": [
    "data_X = np.array([[0, 0],\n",
    "                   [1, 0],\n",
    "                   [0, 1],\n",
    "                   [1, 1]])\n",
    "data_y = np.array([0, \n",
    "                   1, \n",
    "                   1, \n",
    "                   0])"
   ]
  },
  {
   "cell_type": "markdown",
   "metadata": {
    "nbgrader": {
     "grade": false,
     "locked": true,
     "solution": false
    }
   },
   "source": [
    "## Build the neural net model"
   ]
  },
  {
   "cell_type": "code",
   "execution_count": 3,
   "metadata": {
    "collapsed": true,
    "nbgrader": {
     "grade": false,
     "locked": true,
     "solution": false
    }
   },
   "outputs": [],
   "source": [
    "model = Sequential()\n",
    "model.add(Dense(2, input_shape=(2,), activation='sigmoid', kernel_initializer='glorot_normal', \n",
    "                kernel_regularizer=l2(0.0001)))"
   ]
  },
  {
   "cell_type": "code",
   "execution_count": 4,
   "metadata": {
    "nbgrader": {
     "grade": false,
     "locked": true,
     "solution": false
    }
   },
   "outputs": [
    {
     "name": "stdout",
     "output_type": "stream",
     "text": [
      "_________________________________________________________________\n",
      "Layer (type)                 Output Shape              Param #   \n",
      "=================================================================\n",
      "dense_1 (Dense)              (None, 2)                 6         \n",
      "=================================================================\n",
      "Total params: 6\n",
      "Trainable params: 6\n",
      "Non-trainable params: 0\n",
      "_________________________________________________________________\n"
     ]
    }
   ],
   "source": [
    "model.summary()"
   ]
  },
  {
   "cell_type": "markdown",
   "metadata": {
    "nbgrader": {
     "grade": false,
     "locked": true,
     "solution": false
    }
   },
   "source": [
    "# Question 1: \n",
    "How many parameters are there in the model so far? Why? Explain in detail what each parameter represents. Answer in the cell below. "
   ]
  },
  {
   "cell_type": "markdown",
   "metadata": {},
   "source": [
    "6 parameters. There are 2 input nodes, connected to 2 hidden nodes. This gives 2x2 = 4 weights. This accounts for 4 of the parameters.\n",
    "\n",
    "The other 2 parameters are the bias terms: one bias weight for each of the two hidden nodes."
   ]
  },
  {
   "cell_type": "markdown",
   "metadata": {
    "nbgrader": {
     "grade": false,
     "locked": true,
     "solution": false
    }
   },
   "source": [
    "## Add another layer"
   ]
  },
  {
   "cell_type": "code",
   "execution_count": 5,
   "metadata": {
    "collapsed": true,
    "nbgrader": {
     "grade": false,
     "locked": true,
     "solution": false
    }
   },
   "outputs": [],
   "source": [
    "model.add(Dense(1, activation='sigmoid', kernel_initializer='glorot_normal'))"
   ]
  },
  {
   "cell_type": "code",
   "execution_count": 6,
   "metadata": {
    "nbgrader": {
     "grade": false,
     "locked": true,
     "solution": false
    }
   },
   "outputs": [
    {
     "name": "stdout",
     "output_type": "stream",
     "text": [
      "_________________________________________________________________\n",
      "Layer (type)                 Output Shape              Param #   \n",
      "=================================================================\n",
      "dense_1 (Dense)              (None, 2)                 6         \n",
      "_________________________________________________________________\n",
      "dense_2 (Dense)              (None, 1)                 3         \n",
      "=================================================================\n",
      "Total params: 9\n",
      "Trainable params: 9\n",
      "Non-trainable params: 0\n",
      "_________________________________________________________________\n"
     ]
    }
   ],
   "source": [
    "model.summary()"
   ]
  },
  {
   "cell_type": "markdown",
   "metadata": {
    "nbgrader": {
     "grade": false,
     "locked": true,
     "solution": false
    }
   },
   "source": [
    "## Question 2: \n",
    "How many new parameters are there now (e.g., how many were added after question 1)? Why? What does each new parameter represent? "
   ]
  },
  {
   "cell_type": "markdown",
   "metadata": {},
   "source": [
    "There are 3 new parameters (for a total of 9). The new layer contains a single node, so each of the 2 previous hidden-layer nodes are connected to this single new node. That gives 2 regular weights. In addition, the new single node has a single bias node, connected to it with 1 weight. Hence there are 3 new weights in the network."
   ]
  },
  {
   "cell_type": "markdown",
   "metadata": {
    "nbgrader": {
     "grade": false,
     "locked": true,
     "solution": false
    }
   },
   "source": [
    "## Visualize the model"
   ]
  },
  {
   "cell_type": "code",
   "execution_count": 7,
   "metadata": {
    "nbgrader": {
     "grade": false,
     "locked": true,
     "solution": false
    }
   },
   "outputs": [
    {
     "data": {
      "image/svg+xml": [
       "<svg height=\"221pt\" viewBox=\"0.00 0.00 295.00 221.00\" width=\"295pt\" xmlns=\"http://www.w3.org/2000/svg\" xmlns:xlink=\"http://www.w3.org/1999/xlink\">\n",
       "<g class=\"graph\" id=\"graph0\" transform=\"scale(1 1) rotate(0) translate(4 217)\">\n",
       "<title>G</title>\n",
       "<polygon fill=\"white\" points=\"-4,4 -4,-217 291,-217 291,4 -4,4\" stroke=\"none\"/>\n",
       "<!-- 140102421095424 -->\n",
       "<g class=\"node\" id=\"node1\"><title>140102421095424</title>\n",
       "<polygon fill=\"none\" points=\"0,-166.5 0,-212.5 287,-212.5 287,-166.5 0,-166.5\" stroke=\"black\"/>\n",
       "<text font-family=\"Times,serif\" font-size=\"14.00\" text-anchor=\"middle\" x=\"81.5\" y=\"-185.8\">dense_1_input: InputLayer</text>\n",
       "<polyline fill=\"none\" points=\"163,-166.5 163,-212.5 \" stroke=\"black\"/>\n",
       "<text font-family=\"Times,serif\" font-size=\"14.00\" text-anchor=\"middle\" x=\"190.5\" y=\"-197.3\">input:</text>\n",
       "<polyline fill=\"none\" points=\"163,-189.5 218,-189.5 \" stroke=\"black\"/>\n",
       "<text font-family=\"Times,serif\" font-size=\"14.00\" text-anchor=\"middle\" x=\"190.5\" y=\"-174.3\">output:</text>\n",
       "<polyline fill=\"none\" points=\"218,-166.5 218,-212.5 \" stroke=\"black\"/>\n",
       "<text font-family=\"Times,serif\" font-size=\"14.00\" text-anchor=\"middle\" x=\"252.5\" y=\"-197.3\">(None, 2)</text>\n",
       "<polyline fill=\"none\" points=\"218,-189.5 287,-189.5 \" stroke=\"black\"/>\n",
       "<text font-family=\"Times,serif\" font-size=\"14.00\" text-anchor=\"middle\" x=\"252.5\" y=\"-174.3\">(None, 2)</text>\n",
       "</g>\n",
       "<!-- 140102421095032 -->\n",
       "<g class=\"node\" id=\"node2\"><title>140102421095032</title>\n",
       "<polygon fill=\"none\" points=\"30.5,-83.5 30.5,-129.5 256.5,-129.5 256.5,-83.5 30.5,-83.5\" stroke=\"black\"/>\n",
       "<text font-family=\"Times,serif\" font-size=\"14.00\" text-anchor=\"middle\" x=\"81.5\" y=\"-102.8\">dense_1: Dense</text>\n",
       "<polyline fill=\"none\" points=\"132.5,-83.5 132.5,-129.5 \" stroke=\"black\"/>\n",
       "<text font-family=\"Times,serif\" font-size=\"14.00\" text-anchor=\"middle\" x=\"160\" y=\"-114.3\">input:</text>\n",
       "<polyline fill=\"none\" points=\"132.5,-106.5 187.5,-106.5 \" stroke=\"black\"/>\n",
       "<text font-family=\"Times,serif\" font-size=\"14.00\" text-anchor=\"middle\" x=\"160\" y=\"-91.3\">output:</text>\n",
       "<polyline fill=\"none\" points=\"187.5,-83.5 187.5,-129.5 \" stroke=\"black\"/>\n",
       "<text font-family=\"Times,serif\" font-size=\"14.00\" text-anchor=\"middle\" x=\"222\" y=\"-114.3\">(None, 2)</text>\n",
       "<polyline fill=\"none\" points=\"187.5,-106.5 256.5,-106.5 \" stroke=\"black\"/>\n",
       "<text font-family=\"Times,serif\" font-size=\"14.00\" text-anchor=\"middle\" x=\"222\" y=\"-91.3\">(None, 2)</text>\n",
       "</g>\n",
       "<!-- 140102421095424&#45;&gt;140102421095032 -->\n",
       "<g class=\"edge\" id=\"edge1\"><title>140102421095424-&gt;140102421095032</title>\n",
       "<path d=\"M143.5,-166.366C143.5,-158.152 143.5,-148.658 143.5,-139.725\" fill=\"none\" stroke=\"black\"/>\n",
       "<polygon fill=\"black\" points=\"147,-139.607 143.5,-129.607 140,-139.607 147,-139.607\" stroke=\"black\"/>\n",
       "</g>\n",
       "<!-- 140102421552712 -->\n",
       "<g class=\"node\" id=\"node3\"><title>140102421552712</title>\n",
       "<polygon fill=\"none\" points=\"30.5,-0.5 30.5,-46.5 256.5,-46.5 256.5,-0.5 30.5,-0.5\" stroke=\"black\"/>\n",
       "<text font-family=\"Times,serif\" font-size=\"14.00\" text-anchor=\"middle\" x=\"81.5\" y=\"-19.8\">dense_2: Dense</text>\n",
       "<polyline fill=\"none\" points=\"132.5,-0.5 132.5,-46.5 \" stroke=\"black\"/>\n",
       "<text font-family=\"Times,serif\" font-size=\"14.00\" text-anchor=\"middle\" x=\"160\" y=\"-31.3\">input:</text>\n",
       "<polyline fill=\"none\" points=\"132.5,-23.5 187.5,-23.5 \" stroke=\"black\"/>\n",
       "<text font-family=\"Times,serif\" font-size=\"14.00\" text-anchor=\"middle\" x=\"160\" y=\"-8.3\">output:</text>\n",
       "<polyline fill=\"none\" points=\"187.5,-0.5 187.5,-46.5 \" stroke=\"black\"/>\n",
       "<text font-family=\"Times,serif\" font-size=\"14.00\" text-anchor=\"middle\" x=\"222\" y=\"-31.3\">(None, 2)</text>\n",
       "<polyline fill=\"none\" points=\"187.5,-23.5 256.5,-23.5 \" stroke=\"black\"/>\n",
       "<text font-family=\"Times,serif\" font-size=\"14.00\" text-anchor=\"middle\" x=\"222\" y=\"-8.3\">(None, 1)</text>\n",
       "</g>\n",
       "<!-- 140102421095032&#45;&gt;140102421552712 -->\n",
       "<g class=\"edge\" id=\"edge2\"><title>140102421095032-&gt;140102421552712</title>\n",
       "<path d=\"M143.5,-83.3664C143.5,-75.1516 143.5,-65.6579 143.5,-56.7252\" fill=\"none\" stroke=\"black\"/>\n",
       "<polygon fill=\"black\" points=\"147,-56.6068 143.5,-46.6068 140,-56.6069 147,-56.6068\" stroke=\"black\"/>\n",
       "</g>\n",
       "</g>\n",
       "</svg>"
      ],
      "text/plain": [
       "<IPython.core.display.SVG object>"
      ]
     },
     "execution_count": 7,
     "metadata": {},
     "output_type": "execute_result"
    }
   ],
   "source": [
    "SVG(model_to_dot(model, show_shapes=True).create(prog='dot', format='svg'))"
   ]
  },
  {
   "cell_type": "markdown",
   "metadata": {
    "nbgrader": {
     "grade": false,
     "locked": true,
     "solution": false
    }
   },
   "source": [
    "## Train the model"
   ]
  },
  {
   "cell_type": "code",
   "execution_count": 14,
   "metadata": {
    "collapsed": true,
    "nbgrader": {
     "grade": false,
     "locked": true,
     "solution": false
    }
   },
   "outputs": [],
   "source": [
    "model.compile(optimizer='adam', loss='mse', metrics=['accuracy'])"
   ]
  },
  {
   "cell_type": "markdown",
   "metadata": {
    "nbgrader": {
     "grade": false,
     "locked": true,
     "solution": false
    }
   },
   "source": [
    "### Modify the steps per epoch, number of epochs, etc. below as needed. The goal should be 100% accuracy for the XOR data."
   ]
  },
  {
   "cell_type": "code",
   "execution_count": 15,
   "metadata": {},
   "outputs": [
    {
     "name": "stdout",
     "output_type": "stream",
     "text": [
      "Epoch 1/50\n",
      "500/500 [==============================] - 2s 4ms/step - loss: 0.0579 - acc: 1.0000\n",
      "Epoch 2/50\n",
      "500/500 [==============================] - 2s 4ms/step - loss: 0.0428 - acc: 1.0000\n",
      "Epoch 3/50\n",
      "500/500 [==============================] - 2s 4ms/step - loss: 0.0337 - acc: 1.0000\n",
      "Epoch 4/50\n",
      "500/500 [==============================] - 2s 4ms/step - loss: 0.0280 - acc: 1.0000\n",
      "Epoch 5/50\n",
      "500/500 [==============================] - 2s 4ms/step - loss: 0.0241 - acc: 1.0000\n",
      "Epoch 6/50\n",
      "500/500 [==============================] - 2s 4ms/step - loss: 0.0213 - acc: 1.0000\n",
      "Epoch 7/50\n",
      "500/500 [==============================] - 2s 4ms/step - loss: 0.0192 - acc: 1.0000\n",
      "Epoch 8/50\n",
      "500/500 [==============================] - 2s 4ms/step - loss: 0.0174 - acc: 1.0000\n",
      "Epoch 9/50\n",
      "500/500 [==============================] - 2s 4ms/step - loss: 0.0159 - acc: 1.0000\n",
      "Epoch 10/50\n",
      "500/500 [==============================] - 2s 4ms/step - loss: 0.0146 - acc: 1.0000\n",
      "Epoch 11/50\n",
      "500/500 [==============================] - 2s 4ms/step - loss: 0.0134 - acc: 1.0000\n",
      "Epoch 12/50\n",
      "500/500 [==============================] - 2s 4ms/step - loss: 0.0124 - acc: 1.0000\n",
      "Epoch 13/50\n",
      "500/500 [==============================] - 2s 4ms/step - loss: 0.0115 - acc: 1.0000\n",
      "Epoch 14/50\n",
      "500/500 [==============================] - 2s 4ms/step - loss: 0.0107 - acc: 1.0000\n",
      "Epoch 15/50\n",
      "500/500 [==============================] - 2s 4ms/step - loss: 0.0099 - acc: 1.0000\n",
      "Epoch 16/50\n",
      "500/500 [==============================] - 2s 4ms/step - loss: 0.0093 - acc: 1.0000\n",
      "Epoch 17/50\n",
      "500/500 [==============================] - 2s 4ms/step - loss: 0.0087 - acc: 1.0000\n",
      "Epoch 18/50\n",
      "500/500 [==============================] - 2s 4ms/step - loss: 0.0082 - acc: 1.0000\n",
      "Epoch 19/50\n",
      "500/500 [==============================] - 2s 4ms/step - loss: 0.0077 - acc: 1.0000\n",
      "Epoch 20/50\n",
      "500/500 [==============================] - 2s 4ms/step - loss: 0.0072 - acc: 1.0000\n",
      "Epoch 21/50\n",
      "500/500 [==============================] - 2s 4ms/step - loss: 0.0069 - acc: 1.0000\n",
      "Epoch 22/50\n",
      "500/500 [==============================] - 2s 4ms/step - loss: 0.0065 - acc: 1.0000\n",
      "Epoch 23/50\n",
      "500/500 [==============================] - 2s 4ms/step - loss: 0.0062 - acc: 1.0000\n",
      "Epoch 24/50\n",
      "500/500 [==============================] - 2s 4ms/step - loss: 0.0059 - acc: 1.0000\n",
      "Epoch 25/50\n",
      "500/500 [==============================] - 2s 4ms/step - loss: 0.0056 - acc: 1.0000\n",
      "Epoch 26/50\n",
      "500/500 [==============================] - 2s 4ms/step - loss: 0.0053 - acc: 1.0000\n",
      "Epoch 27/50\n",
      "500/500 [==============================] - 2s 4ms/step - loss: 0.0051 - acc: 1.0000\n",
      "Epoch 28/50\n",
      "500/500 [==============================] - 2s 4ms/step - loss: 0.0049 - acc: 1.0000\n",
      "Epoch 29/50\n",
      "500/500 [==============================] - 2s 4ms/step - loss: 0.0047 - acc: 1.0000\n",
      "Epoch 30/50\n",
      "500/500 [==============================] - 2s 4ms/step - loss: 0.0045 - acc: 1.0000\n",
      "Epoch 31/50\n",
      "500/500 [==============================] - 2s 4ms/step - loss: 0.0043 - acc: 1.0000\n",
      "Epoch 32/50\n",
      "500/500 [==============================] - 2s 4ms/step - loss: 0.0042 - acc: 1.0000\n",
      "Epoch 33/50\n",
      "500/500 [==============================] - 2s 4ms/step - loss: 0.0040 - acc: 1.0000\n",
      "Epoch 34/50\n",
      "500/500 [==============================] - 2s 4ms/step - loss: 0.0039 - acc: 1.0000\n",
      "Epoch 35/50\n",
      "500/500 [==============================] - 2s 4ms/step - loss: 0.0037 - acc: 1.0000\n",
      "Epoch 36/50\n",
      "500/500 [==============================] - 2s 4ms/step - loss: 0.0036 - acc: 1.0000\n",
      "Epoch 37/50\n",
      "500/500 [==============================] - 2s 4ms/step - loss: 0.0035 - acc: 1.0000\n",
      "Epoch 38/50\n",
      "500/500 [==============================] - 2s 4ms/step - loss: 0.0034 - acc: 1.0000\n",
      "Epoch 39/50\n",
      "500/500 [==============================] - 2s 4ms/step - loss: 0.0033 - acc: 1.0000\n",
      "Epoch 40/50\n",
      "500/500 [==============================] - 2s 4ms/step - loss: 0.0032 - acc: 1.0000\n",
      "Epoch 41/50\n",
      "500/500 [==============================] - 2s 4ms/step - loss: 0.0031 - acc: 1.0000\n",
      "Epoch 42/50\n",
      "500/500 [==============================] - 2s 4ms/step - loss: 0.0030 - acc: 1.0000\n",
      "Epoch 43/50\n",
      "500/500 [==============================] - 2s 4ms/step - loss: 0.0029 - acc: 1.0000\n",
      "Epoch 44/50\n",
      "500/500 [==============================] - 2s 4ms/step - loss: 0.0028 - acc: 1.0000\n",
      "Epoch 45/50\n",
      "500/500 [==============================] - 2s 4ms/step - loss: 0.0028 - acc: 1.0000\n",
      "Epoch 46/50\n",
      "500/500 [==============================] - 2s 4ms/step - loss: 0.0027 - acc: 1.0000\n",
      "Epoch 47/50\n",
      "500/500 [==============================] - 2s 4ms/step - loss: 0.0026 - acc: 1.0000\n",
      "Epoch 48/50\n",
      "500/500 [==============================] - 2s 4ms/step - loss: 0.0026 - acc: 1.0000\n",
      "Epoch 49/50\n",
      "500/500 [==============================] - 2s 4ms/step - loss: 0.0025 - acc: 1.0000\n",
      "Epoch 50/50\n",
      "500/500 [==============================] - 2s 4ms/step - loss: 0.0024 - acc: 1.0000\n"
     ]
    },
    {
     "data": {
      "text/plain": [
       "<keras.callbacks.History at 0x7f6c8c8e7e80>"
      ]
     },
     "execution_count": 15,
     "metadata": {},
     "output_type": "execute_result"
    }
   ],
   "source": [
    "model.fit(data_X, data_y,\n",
    "          steps_per_epoch=500,\n",
    "          epochs=50)   # Note: different random initial conditions require different # of epochs. The output results in acc 1.000"
   ]
  },
  {
   "cell_type": "markdown",
   "metadata": {
    "nbgrader": {
     "grade": false,
     "locked": true,
     "solution": false
    }
   },
   "source": [
    "# Run the trained model on the dataset."
   ]
  },
  {
   "cell_type": "code",
   "execution_count": 16,
   "metadata": {
    "nbgrader": {
     "grade": false,
     "locked": true,
     "solution": false
    }
   },
   "outputs": [
    {
     "data": {
      "text/plain": [
       "array([[0.01927716],\n",
       "       [0.9816027 ],\n",
       "       [0.97984916],\n",
       "       [0.0192737 ]], dtype=float32)"
      ]
     },
     "execution_count": 16,
     "metadata": {},
     "output_type": "execute_result"
    }
   ],
   "source": [
    "model.predict(data_X)"
   ]
  },
  {
   "cell_type": "markdown",
   "metadata": {
    "nbgrader": {
     "grade": false,
     "locked": true,
     "solution": false
    }
   },
   "source": [
    "# Question 3:\n",
    "Explain the results of the predict() call above. How well did the trained model do on this problem?"
   ]
  },
  {
   "cell_type": "markdown",
   "metadata": {},
   "source": [
    "The model is close to the desire results given in data_y (see following cell). The results are not exact because we have a sigmoid activation and will never output exactly 1 or 0. But if we consider a threshold of 0.5, setting the output to 1 if above threshold and 0 otherwise, then indeed the output is exactly [0,1,1,0] for the 4 inputs, as expected. Thus the network has solved the XOR problem."
   ]
  },
  {
   "cell_type": "code",
   "execution_count": 17,
   "metadata": {},
   "outputs": [
    {
     "data": {
      "text/plain": [
       "array([0, 1, 1, 0])"
      ]
     },
     "execution_count": 17,
     "metadata": {},
     "output_type": "execute_result"
    }
   ],
   "source": [
    "data_y"
   ]
  },
  {
   "cell_type": "markdown",
   "metadata": {
    "nbgrader": {
     "grade": false,
     "locked": true,
     "solution": false
    }
   },
   "source": [
    "# Question 4:\n",
    "Print the weights of both layers of the trained network below. HINT: model.layers gives a list of layers. layer.get_weights() returns layer weights."
   ]
  },
  {
   "cell_type": "code",
   "execution_count": 18,
   "metadata": {},
   "outputs": [
    {
     "data": {
      "text/plain": [
       "[array([[ 2.2040293,  2.299044 ],\n",
       "        [-2.204053 , -2.2990038]], dtype=float32),\n",
       " array([-1.8283949,  1.6810341], dtype=float32)]"
      ]
     },
     "execution_count": 18,
     "metadata": {},
     "output_type": "execute_result"
    }
   ],
   "source": [
    "model.layers[0].get_weights()"
   ]
  },
  {
   "cell_type": "code",
   "execution_count": 13,
   "metadata": {},
   "outputs": [
    {
     "data": {
      "text/plain": [
       "[array([[ 4.1103945],\n",
       "        [-2.8755395]], dtype=float32), array([1.1005371], dtype=float32)]"
      ]
     },
     "execution_count": 13,
     "metadata": {},
     "output_type": "execute_result"
    }
   ],
   "source": [
    "model.layers[1].get_weights()"
   ]
  },
  {
   "cell_type": "code",
   "execution_count": null,
   "metadata": {
    "collapsed": true
   },
   "outputs": [],
   "source": []
  }
 ],
 "metadata": {
  "kernelspec": {
   "display_name": "Python 3",
   "language": "python",
   "name": "python3"
  },
  "language_info": {
   "codemirror_mode": {
    "name": "ipython",
    "version": 3
   },
   "file_extension": ".py",
   "mimetype": "text/x-python",
   "name": "python",
   "nbconvert_exporter": "python",
   "pygments_lexer": "ipython3",
   "version": "3.5.2"
  }
 },
 "nbformat": 4,
 "nbformat_minor": 2
}
