{
 "cells": [
  {
   "cell_type": "markdown",
   "metadata": {
    "nbgrader": {
     "grade": false,
     "locked": false,
     "solution": false
    }
   },
   "source": [
    "# Goals of this Activity\n",
    "\n",
    "\n",
    "## 1. Implement convolution\n",
    "Given an n,m RGB image as a numpy array and a k x k x 3 convolution filter. Implement the\n",
    "convolution operation with ‘same’ padding without using higher level functions like conv2d from tensorflow, or convolve from numpy. "
   ]
  },
  {
   "cell_type": "code",
   "execution_count": 13,
   "metadata": {},
   "outputs": [
    {
     "name": "stdout",
     "output_type": "stream",
     "text": [
      "[[0 0 0 0 0 0]\n",
      " [0 1 2 0 0 0]\n",
      " [0 5 3 0 4 0]\n",
      " [0 0 0 0 7 0]\n",
      " [0 9 3 0 0 0]\n",
      " [0 0 0 0 0 0]]\n",
      "[[0 0 1]\n",
      " [0 1 1]\n",
      " [1 1 1]]\n",
      "[[11. 10.  7.  4.]\n",
      " [10.  3. 11. 11.]\n",
      " [15. 12. 14.  7.]\n",
      " [12.  3.  7.  0.]]\n"
     ]
    }
   ],
   "source": [
    "import numpy as np \n",
    "\n",
    "def convolve(im, kernel):\n",
    "    m, n = kernel.shape[0], kernel.shape[1]\n",
    "    y, x = im.shape[0], im.shape[1]\n",
    "    y = y - m + 1\n",
    "    x = x - m + 1\n",
    "    new_image = np.zeros((y,x))\n",
    "    for i in range(y):\n",
    "        for j in range(x):\n",
    "            new_image[i][j] = np.sum(im[i:i+m, j:j+m]*kernel)\n",
    "            #print(image[i:i+m, j:j+m])\n",
    "    return new_image\n",
    "\n",
    "im = np.array([[1, 2, 0, 0], [5, 3, 0, 4], [0, 0, 0, 7], [9, 3, 0, 0]])\n",
    "kernel = np.array([[1,1,1],[1,1,0],[1,0,0]])\n",
    "kernel = np.fliplr(kernel) # flip leftright\n",
    "kernel = np.flipud(kernel) # flip up down\n",
    "\n",
    "pad = 3-1/2 #f-1/2\n",
    "im = np.pad(im, ((1, 1), (1, 1)), 'constant') # pad each side with zeros\n",
    "print(im)\n",
    "print(kernel)\n",
    "result = convolve(im, kernel)\n",
    "print(result)"
   ]
  },
  {
   "cell_type": "markdown",
   "metadata": {
    "nbgrader": {
     "grade": false,
     "locked": true,
     "solution": false
    }
   },
   "source": [
    "## 2. Implement max_pool \n",
    "Given a grayscale image as a numpy array. We are also given a k by k max pooling filter with a stride of 1. Implement the max_pool operation without using higher level functions like block_reduce."
   ]
  },
  {
   "cell_type": "code",
   "execution_count": 14,
   "metadata": {},
   "outputs": [
    {
     "name": "stdout",
     "output_type": "stream",
     "text": [
      "[[1 2 0 0]\n",
      " [5 3 0 4]\n",
      " [0 0 0 7]\n",
      " [9 3 0 0]]\n",
      "[[5. 4.]\n",
      " [9. 7.]]\n"
     ]
    }
   ],
   "source": [
    "def max_pool(im, k):\n",
    "    y, x = im.shape[0], im.shape[1]\n",
    "    f = k\n",
    "    s = k\n",
    "    y = int((y - f)/s) + 1\n",
    "    x = int((x - f)/s) + 1\n",
    "    new_image = np.zeros((y,x))\n",
    "\n",
    "    imgy = im.shape[0]\n",
    "    imgx = im.shape[1]  \n",
    "    for i in range(0,imgy,2):\n",
    "        for j in range(0,imgx,2):\n",
    "            m = int(i/s)\n",
    "            n = int(j/s)\n",
    "            new_image[m][n] = np.max(im[i:i + s, j:j + s])\n",
    "    return new_image\n",
    "\n",
    "\n",
    "\n",
    "im = np.array([[1, 2, 0, 0], [5, 3, 0, 4], [0, 0, 0, 7], [9, 3, 0, 0]])\n",
    "k = 2\n",
    "\n",
    "result = max_pool(im, k)\n",
    "print(im)\n",
    "print( result)\n"
   ]
  },
  {
   "cell_type": "code",
   "execution_count": null,
   "metadata": {
    "collapsed": true
   },
   "outputs": [],
   "source": []
  }
 ],
 "metadata": {
  "kernelspec": {
   "display_name": "Python 3",
   "language": "python",
   "name": "python3"
  },
  "language_info": {
   "codemirror_mode": {
    "name": "ipython",
    "version": 3
   },
   "file_extension": ".py",
   "mimetype": "text/x-python",
   "name": "python",
   "nbconvert_exporter": "python",
   "pygments_lexer": "ipython3",
   "version": "3.5.2"
  }
 },
 "nbformat": 4,
 "nbformat_minor": 2
}
